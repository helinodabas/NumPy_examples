{
  "nbformat": 4,
  "nbformat_minor": 0,
  "metadata": {
    "colab": {
      "provenance": []
    },
    "kernelspec": {
      "name": "python3",
      "display_name": "Python 3"
    },
    "language_info": {
      "name": "python"
    }
  },
  "cells": [
    {
      "cell_type": "code",
      "execution_count": null,
      "metadata": {
        "id": "6tOH0gOu-3cG"
      },
      "outputs": [],
      "source": [
        "import numpy as np"
      ]
    },
    {
      "cell_type": "markdown",
      "source": [
        "1) 0-29 arası(29 dahil, toplam 30 tam sayı) tam sayılardan oluşan bir boyutlu bir array oluşturun ardından bu array'in shape'ini (15,2) şeklinde güncelleyip 2 boyutlu hale getirin."
      ],
      "metadata": {
        "id": "8tFqm66pDqZJ"
      }
    },
    {
      "cell_type": "code",
      "source": [
        "arr = np.arange(0,30)"
      ],
      "metadata": {
        "id": "E3z0N5lR_Qyl"
      },
      "execution_count": null,
      "outputs": []
    },
    {
      "cell_type": "code",
      "source": [
        "arr"
      ],
      "metadata": {
        "colab": {
          "base_uri": "https://localhost:8080/"
        },
        "id": "ftbc5jch_ga8",
        "outputId": "85514d2a-68c0-40ca-a96b-5f61fa0baf04"
      },
      "execution_count": null,
      "outputs": [
        {
          "output_type": "execute_result",
          "data": {
            "text/plain": [
              "array([ 0,  1,  2,  3,  4,  5,  6,  7,  8,  9, 10, 11, 12, 13, 14, 15, 16,\n",
              "       17, 18, 19, 20, 21, 22, 23, 24, 25, 26, 27, 28, 29])"
            ]
          },
          "metadata": {},
          "execution_count": 5
        }
      ]
    },
    {
      "cell_type": "code",
      "source": [
        "arr.reshape(15,2)"
      ],
      "metadata": {
        "colab": {
          "base_uri": "https://localhost:8080/"
        },
        "id": "VNL2Mq4k_sad",
        "outputId": "417dd0b8-b890-43e4-bfe1-45d9dd2abf6b"
      },
      "execution_count": null,
      "outputs": [
        {
          "output_type": "execute_result",
          "data": {
            "text/plain": [
              "array([[ 0,  1],\n",
              "       [ 2,  3],\n",
              "       [ 4,  5],\n",
              "       [ 6,  7],\n",
              "       [ 8,  9],\n",
              "       [10, 11],\n",
              "       [12, 13],\n",
              "       [14, 15],\n",
              "       [16, 17],\n",
              "       [18, 19],\n",
              "       [20, 21],\n",
              "       [22, 23],\n",
              "       [24, 25],\n",
              "       [26, 27],\n",
              "       [28, 29]])"
            ]
          },
          "metadata": {},
          "execution_count": 7
        }
      ]
    },
    {
      "cell_type": "markdown",
      "source": [
        "2) 60 adet rastgele tam sayı verilerinden oluşan bir boyutlu bir array oluşturun. Devamında bu array'i istediğiniz shapelerde 3 boyutlu hale getirin ve son durumda oluşan array'in boyutunu ve shape'ini kontrol edin."
      ],
      "metadata": {
        "id": "A8rs_N0ID4A-"
      }
    },
    {
      "cell_type": "code",
      "source": [
        "arr = np.random.randint(0,150,60)\n",
        "arr"
      ],
      "metadata": {
        "colab": {
          "base_uri": "https://localhost:8080/"
        },
        "id": "Fp1Tm_5e_wt8",
        "outputId": "e165895b-6138-48e8-8147-4e439dab0df1"
      },
      "execution_count": null,
      "outputs": [
        {
          "output_type": "execute_result",
          "data": {
            "text/plain": [
              "array([ 85, 140, 118,  92, 126,  42,   1, 145,  73, 148, 142,  54,  38,\n",
              "        71, 149, 109,  61, 146, 135,  27,  22,  30,  70, 117,   8, 111,\n",
              "       148,  50,  81, 105,  82, 128,  11,  25, 137,  73, 116,  17,  14,\n",
              "       103, 119,  33,  26, 147,  46, 146,  67,  79,  90,  11,   5, 128,\n",
              "        94, 112, 129,  62, 107, 118,  33,  50])"
            ]
          },
          "metadata": {},
          "execution_count": 19
        }
      ]
    },
    {
      "cell_type": "code",
      "source": [
        "arr3d = arr.reshape(6,5,-1)\n",
        "arr3d"
      ],
      "metadata": {
        "colab": {
          "base_uri": "https://localhost:8080/"
        },
        "id": "uspPfrZ__9zu",
        "outputId": "4ec1e940-2d76-4fcb-fdc6-1d5df05681a4"
      },
      "execution_count": null,
      "outputs": [
        {
          "output_type": "execute_result",
          "data": {
            "text/plain": [
              "array([[[ 85, 140],\n",
              "        [118,  92],\n",
              "        [126,  42],\n",
              "        [  1, 145],\n",
              "        [ 73, 148]],\n",
              "\n",
              "       [[142,  54],\n",
              "        [ 38,  71],\n",
              "        [149, 109],\n",
              "        [ 61, 146],\n",
              "        [135,  27]],\n",
              "\n",
              "       [[ 22,  30],\n",
              "        [ 70, 117],\n",
              "        [  8, 111],\n",
              "        [148,  50],\n",
              "        [ 81, 105]],\n",
              "\n",
              "       [[ 82, 128],\n",
              "        [ 11,  25],\n",
              "        [137,  73],\n",
              "        [116,  17],\n",
              "        [ 14, 103]],\n",
              "\n",
              "       [[119,  33],\n",
              "        [ 26, 147],\n",
              "        [ 46, 146],\n",
              "        [ 67,  79],\n",
              "        [ 90,  11]],\n",
              "\n",
              "       [[  5, 128],\n",
              "        [ 94, 112],\n",
              "        [129,  62],\n",
              "        [107, 118],\n",
              "        [ 33,  50]]])"
            ]
          },
          "metadata": {},
          "execution_count": 23
        }
      ]
    },
    {
      "cell_type": "code",
      "source": [
        "arr3d.ndim"
      ],
      "metadata": {
        "colab": {
          "base_uri": "https://localhost:8080/"
        },
        "id": "UPhkz1c5AkK1",
        "outputId": "630c819f-9cbc-43e4-ef2c-affb35f02f73"
      },
      "execution_count": null,
      "outputs": [
        {
          "output_type": "execute_result",
          "data": {
            "text/plain": [
              "3"
            ]
          },
          "metadata": {},
          "execution_count": 24
        }
      ]
    },
    {
      "cell_type": "code",
      "source": [
        "arr3d.shape"
      ],
      "metadata": {
        "colab": {
          "base_uri": "https://localhost:8080/"
        },
        "id": "OgIayyl4A9_G",
        "outputId": "9b9df732-0cc4-4109-ce0f-aa47b5799e51"
      },
      "execution_count": null,
      "outputs": [
        {
          "output_type": "execute_result",
          "data": {
            "text/plain": [
              "(6, 5, 2)"
            ]
          },
          "metadata": {},
          "execution_count": 25
        }
      ]
    },
    {
      "cell_type": "markdown",
      "source": [
        "3) 20 elemanlı ve sadece rakamlardan oluşan iki boyutlu bir array oluşturun. Ardından bu array'i düzleştirin ve tek boyutlu hale getirin ve son durumda oluşan array'in boyutunu ve shape'ini kontrol edin."
      ],
      "metadata": {
        "id": "cSRQAFL8D8Ye"
      }
    },
    {
      "cell_type": "code",
      "source": [
        "arr2d = np.random.randint(0,50, size=(5, 4))\n",
        "arr2d"
      ],
      "metadata": {
        "colab": {
          "base_uri": "https://localhost:8080/"
        },
        "id": "ckRAhtI2BBLP",
        "outputId": "73a56284-8ff8-40c0-ac2c-ceac0fb1cd80"
      },
      "execution_count": null,
      "outputs": [
        {
          "output_type": "execute_result",
          "data": {
            "text/plain": [
              "array([[ 4,  4, 38, 19],\n",
              "       [28, 15, 47, 10],\n",
              "       [44,  9, 45, 43],\n",
              "       [26, 23, 31, 37],\n",
              "       [14,  8, 33, 41]])"
            ]
          },
          "metadata": {},
          "execution_count": 30
        }
      ]
    },
    {
      "cell_type": "code",
      "source": [
        "arr = arr2d.reshape(-1)"
      ],
      "metadata": {
        "id": "uP0r16wrBVqN"
      },
      "execution_count": null,
      "outputs": []
    },
    {
      "cell_type": "code",
      "source": [
        "arr.ndim"
      ],
      "metadata": {
        "colab": {
          "base_uri": "https://localhost:8080/"
        },
        "id": "3zneRHAJCTd-",
        "outputId": "facd58b7-ce7b-40ef-cecd-96c8a9583bd1"
      },
      "execution_count": null,
      "outputs": [
        {
          "output_type": "execute_result",
          "data": {
            "text/plain": [
              "1"
            ]
          },
          "metadata": {},
          "execution_count": 35
        }
      ]
    },
    {
      "cell_type": "code",
      "source": [
        "arr.shape"
      ],
      "metadata": {
        "colab": {
          "base_uri": "https://localhost:8080/"
        },
        "id": "qmCevO3PCbUI",
        "outputId": "368c1389-627f-40a8-c8ca-06d153952c69"
      },
      "execution_count": null,
      "outputs": [
        {
          "output_type": "execute_result",
          "data": {
            "text/plain": [
              "(20,)"
            ]
          },
          "metadata": {},
          "execution_count": 36
        }
      ]
    },
    {
      "cell_type": "markdown",
      "source": [
        "4) İstediğiniz herhangi elemanlardan oluşan 2 Boyutlu bir array oluşturun. Oluşturduğunuz bu 2 boyutlu array'in içindeki bütün elemanları hem yavaş yol olan for döngüsüyle hem de daha hızlı yol olan uygun NumPy metoduyla tek tek dönerek ekrana yazdırın."
      ],
      "metadata": {
        "id": "a6CojmVrD_op"
      }
    },
    {
      "cell_type": "code",
      "source": [
        "arr2d = np.random.randint(0,5, size=(3,4))\n",
        "arr2d"
      ],
      "metadata": {
        "colab": {
          "base_uri": "https://localhost:8080/"
        },
        "id": "uWiz5e4oCcqX",
        "outputId": "4184dac6-ba34-4e3e-aace-fb671589fe29"
      },
      "execution_count": null,
      "outputs": [
        {
          "output_type": "execute_result",
          "data": {
            "text/plain": [
              "array([[2, 1, 2, 0],\n",
              "       [0, 2, 3, 4],\n",
              "       [4, 1, 3, 3]])"
            ]
          },
          "metadata": {},
          "execution_count": 40
        }
      ]
    },
    {
      "cell_type": "code",
      "source": [
        "for i in arr2d:\n",
        "  for x in i:\n",
        "    print(x)"
      ],
      "metadata": {
        "colab": {
          "base_uri": "https://localhost:8080/"
        },
        "id": "D-6WwG1-C1B9",
        "outputId": "6a995f8d-1e46-44e6-b7e5-94fd6bbe9604"
      },
      "execution_count": null,
      "outputs": [
        {
          "output_type": "stream",
          "name": "stdout",
          "text": [
            "2\n",
            "1\n",
            "2\n",
            "0\n",
            "0\n",
            "2\n",
            "3\n",
            "4\n",
            "4\n",
            "1\n",
            "3\n",
            "3\n"
          ]
        }
      ]
    },
    {
      "cell_type": "code",
      "source": [
        "for i in np.nditer(arr2d):\n",
        "  print (i)"
      ],
      "metadata": {
        "colab": {
          "base_uri": "https://localhost:8080/"
        },
        "id": "LYPaS4QVDVMb",
        "outputId": "63626bdb-f88d-4d87-ddc6-41d4799ed76e"
      },
      "execution_count": null,
      "outputs": [
        {
          "output_type": "stream",
          "name": "stdout",
          "text": [
            "2\n",
            "1\n",
            "2\n",
            "0\n",
            "0\n",
            "2\n",
            "3\n",
            "4\n",
            "4\n",
            "1\n",
            "3\n",
            "3\n"
          ]
        }
      ]
    },
    {
      "cell_type": "markdown",
      "source": [
        "## 5) 5,10,15,20,25,30 değerlerinden oluşan bir boyutlu bir array ve\n",
        "   1,2,3,4,5,6 değerlerinden oluşan başka bir boyutlu bir array oluşturun.\n",
        "   Bu arraylerinin elemanlarına kendi aralarında 4 işlem uygulayın. İki arrayinde 1.indexindekiler toplansın/çıkartılsın/çarpılsın/bölünsün gibi."
      ],
      "metadata": {
        "id": "PHhyglXtItJi"
      }
    },
    {
      "cell_type": "code",
      "source": [
        "arr1 = np.arange(5,31,5)\n",
        "arr1"
      ],
      "metadata": {
        "colab": {
          "base_uri": "https://localhost:8080/"
        },
        "id": "RNTyrHi4EEIu",
        "outputId": "538c14fe-4b5f-455e-e13c-b793110868d1"
      },
      "execution_count": null,
      "outputs": [
        {
          "output_type": "execute_result",
          "data": {
            "text/plain": [
              "array([ 5, 10, 15, 20, 25, 30])"
            ]
          },
          "metadata": {},
          "execution_count": 50
        }
      ]
    },
    {
      "cell_type": "code",
      "source": [
        "arr2 = np.arange(1,7)\n",
        "arr2"
      ],
      "metadata": {
        "colab": {
          "base_uri": "https://localhost:8080/"
        },
        "id": "qITGenMAIWOS",
        "outputId": "c99e6585-4060-4231-a900-77662eea8750"
      },
      "execution_count": null,
      "outputs": [
        {
          "output_type": "execute_result",
          "data": {
            "text/plain": [
              "array([1, 2, 3, 4, 5, 6])"
            ]
          },
          "metadata": {},
          "execution_count": 49
        }
      ]
    },
    {
      "cell_type": "code",
      "source": [
        "np.add(arr1, arr2)[0]"
      ],
      "metadata": {
        "colab": {
          "base_uri": "https://localhost:8080/"
        },
        "id": "SNVup25xIxTy",
        "outputId": "1846b688-6835-48de-ace7-64194f2b5620"
      },
      "execution_count": null,
      "outputs": [
        {
          "output_type": "execute_result",
          "data": {
            "text/plain": [
              "6"
            ]
          },
          "metadata": {},
          "execution_count": 52
        }
      ]
    },
    {
      "cell_type": "code",
      "source": [
        "arr1[1].__sub__(arr2[1])"
      ],
      "metadata": {
        "colab": {
          "base_uri": "https://localhost:8080/"
        },
        "id": "jDwZsS0XJh2M",
        "outputId": "3a254127-7a3d-48e8-a4e3-c2a8293d907d"
      },
      "execution_count": null,
      "outputs": [
        {
          "output_type": "execute_result",
          "data": {
            "text/plain": [
              "8"
            ]
          },
          "metadata": {},
          "execution_count": 54
        }
      ]
    },
    {
      "cell_type": "code",
      "source": [
        "arr1[1].__mul__(arr2[1])"
      ],
      "metadata": {
        "colab": {
          "base_uri": "https://localhost:8080/"
        },
        "id": "3MewvALDJopu",
        "outputId": "d0d76b2a-f56e-4d6e-cfb1-9aff9a2c2eab"
      },
      "execution_count": null,
      "outputs": [
        {
          "output_type": "execute_result",
          "data": {
            "text/plain": [
              "20"
            ]
          },
          "metadata": {},
          "execution_count": 55
        }
      ]
    },
    {
      "cell_type": "code",
      "source": [
        "arr1[0] / arr2[0]"
      ],
      "metadata": {
        "colab": {
          "base_uri": "https://localhost:8080/"
        },
        "id": "axkD5c69J81T",
        "outputId": "249b71fc-5fc8-4af3-ea36-93b988c7b40d"
      },
      "execution_count": null,
      "outputs": [
        {
          "output_type": "execute_result",
          "data": {
            "text/plain": [
              "5.0"
            ]
          },
          "metadata": {},
          "execution_count": 56
        }
      ]
    },
    {
      "cell_type": "markdown",
      "source": [
        "6) 0-100 arası rastgele 10 tam sayıdan oluşan bir array oluşturun ve oluşturulan arrayin sum/mean/max/var/std değerlerini inceleyin.\n"
      ],
      "metadata": {
        "id": "tOR82DKVKewe"
      }
    },
    {
      "cell_type": "code",
      "source": [
        "arr = np.random.randint(1,50,10)\n",
        "arr"
      ],
      "metadata": {
        "colab": {
          "base_uri": "https://localhost:8080/"
        },
        "id": "-_JxUlNlKgiC",
        "outputId": "67391a6e-5e3a-4b5a-ef92-9bd0827cb005"
      },
      "execution_count": null,
      "outputs": [
        {
          "output_type": "execute_result",
          "data": {
            "text/plain": [
              "array([ 8, 39, 23, 45, 19, 43,  8, 25, 18, 46])"
            ]
          },
          "metadata": {},
          "execution_count": 60
        }
      ]
    },
    {
      "cell_type": "code",
      "source": [
        "arr.sum()"
      ],
      "metadata": {
        "colab": {
          "base_uri": "https://localhost:8080/"
        },
        "id": "afxb_w2EKj6c",
        "outputId": "be36971b-0414-48f3-bb95-b3a18239144f"
      },
      "execution_count": null,
      "outputs": [
        {
          "output_type": "execute_result",
          "data": {
            "text/plain": [
              "274"
            ]
          },
          "metadata": {},
          "execution_count": 61
        }
      ]
    },
    {
      "cell_type": "code",
      "source": [
        "arr.mean()"
      ],
      "metadata": {
        "colab": {
          "base_uri": "https://localhost:8080/"
        },
        "id": "DLnl-eNtKt5p",
        "outputId": "676d7553-ec00-4baf-e6e6-f588eefd55e5"
      },
      "execution_count": null,
      "outputs": [
        {
          "output_type": "execute_result",
          "data": {
            "text/plain": [
              "27.4"
            ]
          },
          "metadata": {},
          "execution_count": 62
        }
      ]
    },
    {
      "cell_type": "code",
      "source": [
        "arr.max()"
      ],
      "metadata": {
        "colab": {
          "base_uri": "https://localhost:8080/"
        },
        "id": "JWphGCz7Kvez",
        "outputId": "75ebd086-9453-485b-e829-8ed4630f68cf"
      },
      "execution_count": null,
      "outputs": [
        {
          "output_type": "execute_result",
          "data": {
            "text/plain": [
              "46"
            ]
          },
          "metadata": {},
          "execution_count": 63
        }
      ]
    },
    {
      "cell_type": "code",
      "source": [
        "arr.var()"
      ],
      "metadata": {
        "colab": {
          "base_uri": "https://localhost:8080/"
        },
        "id": "pSDbmMevKwua",
        "outputId": "c3a7e529-4840-4f56-e607-d1eb5a3a8099"
      },
      "execution_count": null,
      "outputs": [
        {
          "output_type": "execute_result",
          "data": {
            "text/plain": [
              "197.04"
            ]
          },
          "metadata": {},
          "execution_count": 64
        }
      ]
    },
    {
      "cell_type": "code",
      "source": [
        "arr.std()"
      ],
      "metadata": {
        "colab": {
          "base_uri": "https://localhost:8080/"
        },
        "id": "Plf2Zt8uKyIf",
        "outputId": "d4710662-5364-4749-8253-b18cd503d792"
      },
      "execution_count": null,
      "outputs": [
        {
          "output_type": "execute_result",
          "data": {
            "text/plain": [
              "14.037093716293269"
            ]
          },
          "metadata": {},
          "execution_count": 65
        }
      ]
    },
    {
      "cell_type": "markdown",
      "source": [
        "7) 0-20 arası(20 dahil değil) tam sayılardan oluşan ve 500-530(530 dahil) arası tam sayılardan oluşan 2 array oluşturun. Ardından bu iki array'i concatenate ederek ekrana yazdırın."
      ],
      "metadata": {
        "id": "_rmlxnIuK-gd"
      }
    },
    {
      "cell_type": "code",
      "source": [
        "arr1 = np.arange(0,20)\n",
        "arr1"
      ],
      "metadata": {
        "colab": {
          "base_uri": "https://localhost:8080/"
        },
        "id": "cm1xf2TfLACW",
        "outputId": "15f87109-ee93-4585-c0df-a52a254ec63e"
      },
      "execution_count": null,
      "outputs": [
        {
          "output_type": "execute_result",
          "data": {
            "text/plain": [
              "array([ 0,  1,  2,  3,  4,  5,  6,  7,  8,  9, 10, 11, 12, 13, 14, 15, 16,\n",
              "       17, 18, 19])"
            ]
          },
          "metadata": {},
          "execution_count": 67
        }
      ]
    },
    {
      "cell_type": "code",
      "source": [
        "arr2 = np.arange(500,531)\n",
        "arr2"
      ],
      "metadata": {
        "colab": {
          "base_uri": "https://localhost:8080/"
        },
        "id": "XbaTOIWLLKvY",
        "outputId": "280e3f2e-741d-4497-d5aa-26c29ae1200c"
      },
      "execution_count": null,
      "outputs": [
        {
          "output_type": "execute_result",
          "data": {
            "text/plain": [
              "array([500, 501, 502, 503, 504, 505, 506, 507, 508, 509, 510, 511, 512,\n",
              "       513, 514, 515, 516, 517, 518, 519, 520, 521, 522, 523, 524, 525,\n",
              "       526, 527, 528, 529, 530])"
            ]
          },
          "metadata": {},
          "execution_count": 68
        }
      ]
    },
    {
      "cell_type": "code",
      "source": [
        "np.concatenate([arr1,arr2], axis = 0)"
      ],
      "metadata": {
        "colab": {
          "base_uri": "https://localhost:8080/"
        },
        "id": "YUIJkAPpLOtx",
        "outputId": "d62951d6-bd93-4ec7-f75c-08200617f63f"
      },
      "execution_count": null,
      "outputs": [
        {
          "output_type": "execute_result",
          "data": {
            "text/plain": [
              "array([  0,   1,   2,   3,   4,   5,   6,   7,   8,   9,  10,  11,  12,\n",
              "        13,  14,  15,  16,  17,  18,  19, 500, 501, 502, 503, 504, 505,\n",
              "       506, 507, 508, 509, 510, 511, 512, 513, 514, 515, 516, 517, 518,\n",
              "       519, 520, 521, 522, 523, 524, 525, 526, 527, 528, 529, 530])"
            ]
          },
          "metadata": {},
          "execution_count": 69
        }
      ]
    },
    {
      "cell_type": "markdown",
      "source": [
        "8) 15-50(50 dahil) arası tam sayılardan oluşan bir array oluşturun. Daha sonra 10-100 arası(100 dahil) tam sayılardan oluşan 2.bir array oluşturun. Bu 2 arrayi concatanate ederek 3.bir array oluşturun ve bu array'in 25.index ile 50.index'i(50 dahil) arasındaki değerlerini 888 yapın."
      ],
      "metadata": {
        "id": "Ipz3sHGELk5o"
      }
    },
    {
      "cell_type": "code",
      "source": [
        "arr1 = np.arange(15,51)\n",
        "arr1"
      ],
      "metadata": {
        "colab": {
          "base_uri": "https://localhost:8080/"
        },
        "id": "UmK1dfISLljW",
        "outputId": "24b09a7d-addb-4c0d-c757-4c5fc1b0251c"
      },
      "execution_count": null,
      "outputs": [
        {
          "output_type": "execute_result",
          "data": {
            "text/plain": [
              "array([15, 16, 17, 18, 19, 20, 21, 22, 23, 24, 25, 26, 27, 28, 29, 30, 31,\n",
              "       32, 33, 34, 35, 36, 37, 38, 39, 40, 41, 42, 43, 44, 45, 46, 47, 48,\n",
              "       49, 50])"
            ]
          },
          "metadata": {},
          "execution_count": 71
        }
      ]
    },
    {
      "cell_type": "code",
      "source": [
        "arr2 = np.arange(10,101)\n",
        "arr2"
      ],
      "metadata": {
        "colab": {
          "base_uri": "https://localhost:8080/"
        },
        "id": "3Yf-2NfHLqor",
        "outputId": "11763a42-7f38-4ab7-8aba-3f85964996e0"
      },
      "execution_count": null,
      "outputs": [
        {
          "output_type": "execute_result",
          "data": {
            "text/plain": [
              "array([ 10,  11,  12,  13,  14,  15,  16,  17,  18,  19,  20,  21,  22,\n",
              "        23,  24,  25,  26,  27,  28,  29,  30,  31,  32,  33,  34,  35,\n",
              "        36,  37,  38,  39,  40,  41,  42,  43,  44,  45,  46,  47,  48,\n",
              "        49,  50,  51,  52,  53,  54,  55,  56,  57,  58,  59,  60,  61,\n",
              "        62,  63,  64,  65,  66,  67,  68,  69,  70,  71,  72,  73,  74,\n",
              "        75,  76,  77,  78,  79,  80,  81,  82,  83,  84,  85,  86,  87,\n",
              "        88,  89,  90,  91,  92,  93,  94,  95,  96,  97,  98,  99, 100])"
            ]
          },
          "metadata": {},
          "execution_count": 72
        }
      ]
    },
    {
      "cell_type": "code",
      "source": [
        "arr3 = np.concatenate([arr1, arr2], axis = 0)\n",
        "arr3"
      ],
      "metadata": {
        "colab": {
          "base_uri": "https://localhost:8080/"
        },
        "id": "cHk9XUVcLu6B",
        "outputId": "72f29ebc-c6e3-40b4-a778-2ce3d31a73f7"
      },
      "execution_count": null,
      "outputs": [
        {
          "output_type": "execute_result",
          "data": {
            "text/plain": [
              "array([ 15,  16,  17,  18,  19,  20,  21,  22,  23,  24,  25,  26,  27,\n",
              "        28,  29,  30,  31,  32,  33,  34,  35,  36,  37,  38,  39,  40,\n",
              "        41,  42,  43,  44,  45,  46,  47,  48,  49,  50,  10,  11,  12,\n",
              "        13,  14,  15,  16,  17,  18,  19,  20,  21,  22,  23,  24,  25,\n",
              "        26,  27,  28,  29,  30,  31,  32,  33,  34,  35,  36,  37,  38,\n",
              "        39,  40,  41,  42,  43,  44,  45,  46,  47,  48,  49,  50,  51,\n",
              "        52,  53,  54,  55,  56,  57,  58,  59,  60,  61,  62,  63,  64,\n",
              "        65,  66,  67,  68,  69,  70,  71,  72,  73,  74,  75,  76,  77,\n",
              "        78,  79,  80,  81,  82,  83,  84,  85,  86,  87,  88,  89,  90,\n",
              "        91,  92,  93,  94,  95,  96,  97,  98,  99, 100])"
            ]
          },
          "metadata": {},
          "execution_count": 74
        }
      ]
    },
    {
      "cell_type": "code",
      "source": [
        "arr3[25:51] = 888\n",
        "arr3 "
      ],
      "metadata": {
        "colab": {
          "base_uri": "https://localhost:8080/"
        },
        "id": "JQ-iWsLbL1SH",
        "outputId": "43a3a5c8-fd81-4490-b70c-9eac4670e877"
      },
      "execution_count": null,
      "outputs": [
        {
          "output_type": "execute_result",
          "data": {
            "text/plain": [
              "array([ 15,  16,  17,  18,  19,  20,  21,  22,  23,  24,  25,  26,  27,\n",
              "        28,  29,  30,  31,  32,  33,  34,  35,  36,  37,  38,  39, 888,\n",
              "       888, 888, 888, 888, 888, 888, 888, 888, 888, 888, 888, 888, 888,\n",
              "       888, 888, 888, 888, 888, 888, 888, 888, 888, 888, 888, 888,  25,\n",
              "        26,  27,  28,  29,  30,  31,  32,  33,  34,  35,  36,  37,  38,\n",
              "        39,  40,  41,  42,  43,  44,  45,  46,  47,  48,  49,  50,  51,\n",
              "        52,  53,  54,  55,  56,  57,  58,  59,  60,  61,  62,  63,  64,\n",
              "        65,  66,  67,  68,  69,  70,  71,  72,  73,  74,  75,  76,  77,\n",
              "        78,  79,  80,  81,  82,  83,  84,  85,  86,  87,  88,  89,  90,\n",
              "        91,  92,  93,  94,  95,  96,  97,  98,  99, 100])"
            ]
          },
          "metadata": {},
          "execution_count": 77
        }
      ]
    },
    {
      "cell_type": "markdown",
      "source": [
        "9) 0-40(40 dahil değil) arası değerlerden oluşan (8,5) shape'inde 2 boyutlu bir array ve  320-360(360 dahil değil) değerlerinden oluşan (8,5) shape'inde 2 boyutlubaşka bir array oluşturun. Devamında bu iki array'i hem axis = 0'da hem de axis = 1'de concatenate ederek farkı karşılaştırın."
      ],
      "metadata": {
        "id": "m8CV-G0RMY8J"
      }
    },
    {
      "cell_type": "code",
      "source": [
        "arr1 = np.arange(0,40).reshape(8,5)\n",
        "arr1"
      ],
      "metadata": {
        "colab": {
          "base_uri": "https://localhost:8080/"
        },
        "id": "S67JUqOwMZcn",
        "outputId": "eaedff2b-ad3e-481e-9213-2bdd33c20a33"
      },
      "execution_count": null,
      "outputs": [
        {
          "output_type": "execute_result",
          "data": {
            "text/plain": [
              "array([[ 0,  1,  2,  3,  4],\n",
              "       [ 5,  6,  7,  8,  9],\n",
              "       [10, 11, 12, 13, 14],\n",
              "       [15, 16, 17, 18, 19],\n",
              "       [20, 21, 22, 23, 24],\n",
              "       [25, 26, 27, 28, 29],\n",
              "       [30, 31, 32, 33, 34],\n",
              "       [35, 36, 37, 38, 39]])"
            ]
          },
          "metadata": {},
          "execution_count": 86
        }
      ]
    },
    {
      "cell_type": "code",
      "source": [
        "arr2 = np.arange(320,360).reshape(8,5)\n",
        "arr2"
      ],
      "metadata": {
        "colab": {
          "base_uri": "https://localhost:8080/"
        },
        "id": "oFNavh4gMs5r",
        "outputId": "0a6f2fb7-7e76-4619-8d46-bad1ab534cf6"
      },
      "execution_count": null,
      "outputs": [
        {
          "output_type": "execute_result",
          "data": {
            "text/plain": [
              "array([[320, 321, 322, 323, 324],\n",
              "       [325, 326, 327, 328, 329],\n",
              "       [330, 331, 332, 333, 334],\n",
              "       [335, 336, 337, 338, 339],\n",
              "       [340, 341, 342, 343, 344],\n",
              "       [345, 346, 347, 348, 349],\n",
              "       [350, 351, 352, 353, 354],\n",
              "       [355, 356, 357, 358, 359]])"
            ]
          },
          "metadata": {},
          "execution_count": 82
        }
      ]
    },
    {
      "cell_type": "code",
      "source": [
        "arr3 = np.concatenate([arr1, arr2], axis = 0)\n",
        "arr3"
      ],
      "metadata": {
        "colab": {
          "base_uri": "https://localhost:8080/"
        },
        "id": "omDEIGoaNDGx",
        "outputId": "8c9298b6-c32c-4fc0-cfd7-ab18c308a6c6"
      },
      "execution_count": null,
      "outputs": [
        {
          "output_type": "execute_result",
          "data": {
            "text/plain": [
              "array([[  0,   1,   2,   3,   4],\n",
              "       [  5,   6,   7,   8,   9],\n",
              "       [ 10,  11,  12,  13,  14],\n",
              "       [ 15,  16,  17,  18,  19],\n",
              "       [ 20,  21,  22,  23,  24],\n",
              "       [ 25,  26,  27,  28,  29],\n",
              "       [ 30,  31,  32,  33,  34],\n",
              "       [ 35,  36,  37,  38,  39],\n",
              "       [320, 321, 322, 323, 324],\n",
              "       [325, 326, 327, 328, 329],\n",
              "       [330, 331, 332, 333, 334],\n",
              "       [335, 336, 337, 338, 339],\n",
              "       [340, 341, 342, 343, 344],\n",
              "       [345, 346, 347, 348, 349],\n",
              "       [350, 351, 352, 353, 354],\n",
              "       [355, 356, 357, 358, 359]])"
            ]
          },
          "metadata": {},
          "execution_count": 87
        }
      ]
    },
    {
      "cell_type": "code",
      "source": [
        "arr4 = np.concatenate([arr1, arr2], axis = 1)\n",
        "arr4"
      ],
      "metadata": {
        "colab": {
          "base_uri": "https://localhost:8080/"
        },
        "id": "q61Vi5csNNLw",
        "outputId": "9e37ce08-8c4f-4f72-8922-c53f150c13a7"
      },
      "execution_count": null,
      "outputs": [
        {
          "output_type": "execute_result",
          "data": {
            "text/plain": [
              "array([[  0,   1,   2,   3,   4, 320, 321, 322, 323, 324],\n",
              "       [  5,   6,   7,   8,   9, 325, 326, 327, 328, 329],\n",
              "       [ 10,  11,  12,  13,  14, 330, 331, 332, 333, 334],\n",
              "       [ 15,  16,  17,  18,  19, 335, 336, 337, 338, 339],\n",
              "       [ 20,  21,  22,  23,  24, 340, 341, 342, 343, 344],\n",
              "       [ 25,  26,  27,  28,  29, 345, 346, 347, 348, 349],\n",
              "       [ 30,  31,  32,  33,  34, 350, 351, 352, 353, 354],\n",
              "       [ 35,  36,  37,  38,  39, 355, 356, 357, 358, 359]])"
            ]
          },
          "metadata": {},
          "execution_count": 88
        }
      ]
    },
    {
      "cell_type": "markdown",
      "source": [
        "10) 9.Soruda oluşturduğunuz 2 array'i axis = 2'de concatenate etmeye çalışın. Ardından axis = 2'de stacklemeye(yığınlamaya) çalışın. İkisi arasındaki farkı karşılaştırın."
      ],
      "metadata": {
        "id": "PRMT2G4hNb5y"
      }
    },
    {
      "cell_type": "code",
      "source": [
        "## arr5 = np.concatenate([arr1, arr2], axis = 2)\n",
        "## arr5"
      ],
      "metadata": {
        "id": "whjMUKx0NcSd"
      },
      "execution_count": null,
      "outputs": []
    },
    {
      "cell_type": "code",
      "source": [
        "arr5 = np.stack([arr1, arr2], axis = 2)\n",
        "arr5"
      ],
      "metadata": {
        "colab": {
          "base_uri": "https://localhost:8080/"
        },
        "id": "HV_JjjJJNf7R",
        "outputId": "b5bb579f-4be6-4663-fc59-193899873d04"
      },
      "execution_count": null,
      "outputs": [
        {
          "output_type": "execute_result",
          "data": {
            "text/plain": [
              "array([[[  0, 320],\n",
              "        [  1, 321],\n",
              "        [  2, 322],\n",
              "        [  3, 323],\n",
              "        [  4, 324]],\n",
              "\n",
              "       [[  5, 325],\n",
              "        [  6, 326],\n",
              "        [  7, 327],\n",
              "        [  8, 328],\n",
              "        [  9, 329]],\n",
              "\n",
              "       [[ 10, 330],\n",
              "        [ 11, 331],\n",
              "        [ 12, 332],\n",
              "        [ 13, 333],\n",
              "        [ 14, 334]],\n",
              "\n",
              "       [[ 15, 335],\n",
              "        [ 16, 336],\n",
              "        [ 17, 337],\n",
              "        [ 18, 338],\n",
              "        [ 19, 339]],\n",
              "\n",
              "       [[ 20, 340],\n",
              "        [ 21, 341],\n",
              "        [ 22, 342],\n",
              "        [ 23, 343],\n",
              "        [ 24, 344]],\n",
              "\n",
              "       [[ 25, 345],\n",
              "        [ 26, 346],\n",
              "        [ 27, 347],\n",
              "        [ 28, 348],\n",
              "        [ 29, 349]],\n",
              "\n",
              "       [[ 30, 350],\n",
              "        [ 31, 351],\n",
              "        [ 32, 352],\n",
              "        [ 33, 353],\n",
              "        [ 34, 354]],\n",
              "\n",
              "       [[ 35, 355],\n",
              "        [ 36, 356],\n",
              "        [ 37, 357],\n",
              "        [ 38, 358],\n",
              "        [ 39, 359]]])"
            ]
          },
          "metadata": {},
          "execution_count": 93
        }
      ]
    },
    {
      "cell_type": "code",
      "source": [],
      "metadata": {
        "colab": {
          "base_uri": "https://localhost:8080/"
        },
        "id": "atAwUDN2NxpC",
        "outputId": "0f647552-13c9-40ad-db81-75e75e4b094f"
      },
      "execution_count": null,
      "outputs": [
        {
          "output_type": "execute_result",
          "data": {
            "text/plain": [
              "array([[[  0, 320],\n",
              "        [  1, 321],\n",
              "        [  2, 322],\n",
              "        [  3, 323],\n",
              "        [  4, 324]],\n",
              "\n",
              "       [[  5, 325],\n",
              "        [  6, 326],\n",
              "        [  7, 327],\n",
              "        [  8, 328],\n",
              "        [  9, 329]],\n",
              "\n",
              "       [[ 10, 330],\n",
              "        [ 11, 331],\n",
              "        [ 12, 332],\n",
              "        [ 13, 333],\n",
              "        [ 14, 334]],\n",
              "\n",
              "       [[ 15, 335],\n",
              "        [ 16, 336],\n",
              "        [ 17, 337],\n",
              "        [ 18, 338],\n",
              "        [ 19, 339]],\n",
              "\n",
              "       [[ 20, 340],\n",
              "        [ 21, 341],\n",
              "        [ 22, 342],\n",
              "        [ 23, 343],\n",
              "        [ 24, 344]],\n",
              "\n",
              "       [[ 25, 345],\n",
              "        [ 26, 346],\n",
              "        [ 27, 347],\n",
              "        [ 28, 348],\n",
              "        [ 29, 349]],\n",
              "\n",
              "       [[ 30, 350],\n",
              "        [ 31, 351],\n",
              "        [ 32, 352],\n",
              "        [ 33, 353],\n",
              "        [ 34, 354]],\n",
              "\n",
              "       [[ 35, 355],\n",
              "        [ 36, 356],\n",
              "        [ 37, 357],\n",
              "        [ 38, 358],\n",
              "        [ 39, 359]]])"
            ]
          },
          "metadata": {},
          "execution_count": 92
        }
      ]
    },
    {
      "cell_type": "code",
      "source": [
        "## concaneta yapamıyoruz çünkü 2 boyutlu bir arrayimiz var. stackleme işleminde ise 2 arrayimizin de indexlerini karşılaştırarak yeni index yapıyor.\n"
      ],
      "metadata": {
        "id": "nHSEr_IoNx8q"
      },
      "execution_count": null,
      "outputs": []
    },
    {
      "cell_type": "markdown",
      "source": [
        "11) [1, 20, 25, 4, 4, 5, 4, 4, 1, 6, 9, 12, 1, 5] değerlerinden oluşan bir boyutlu bir array oluşturun. Devamında bu array'in içinde değeri 5'e eşit olan değerlerin indexleri bulun."
      ],
      "metadata": {
        "id": "G2b7awnhOci5"
      }
    },
    {
      "cell_type": "code",
      "source": [
        "arr1 = np.array([1, 20, 25, 4, 4, 5, 4, 4, 1, 6, 9, 12, 1, 5])\n",
        "arr1"
      ],
      "metadata": {
        "colab": {
          "base_uri": "https://localhost:8080/"
        },
        "id": "2jd4OLtfOdN5",
        "outputId": "7bb2207b-43e4-4379-f20f-58015d0c7c42"
      },
      "execution_count": null,
      "outputs": [
        {
          "output_type": "execute_result",
          "data": {
            "text/plain": [
              "array([ 1, 20, 25,  4,  4,  5,  4,  4,  1,  6,  9, 12,  1,  5])"
            ]
          },
          "metadata": {},
          "execution_count": 96
        }
      ]
    },
    {
      "cell_type": "code",
      "source": [
        "arr2 = np.where(arr1 == 5)[0]\n",
        "arr2"
      ],
      "metadata": {
        "colab": {
          "base_uri": "https://localhost:8080/"
        },
        "id": "J1Lyjv7dOp--",
        "outputId": "49954be5-2ce2-4763-9bf2-8ee4b2983ae7"
      },
      "execution_count": null,
      "outputs": [
        {
          "output_type": "execute_result",
          "data": {
            "text/plain": [
              "array([ 5, 13])"
            ]
          },
          "metadata": {},
          "execution_count": 100
        }
      ]
    },
    {
      "cell_type": "markdown",
      "source": [
        "12) Yukarıda oluşturduğunuz array içinde değeri çift olan değerlerin indexlerini bulun."
      ],
      "metadata": {
        "id": "U8Nj0JJMP68A"
      }
    },
    {
      "cell_type": "code",
      "source": [
        "arr3 = np.where(arr1 % 2 == 0)[0]\n",
        "arr3"
      ],
      "metadata": {
        "colab": {
          "base_uri": "https://localhost:8080/"
        },
        "id": "8opxGHtePJtw",
        "outputId": "90ae8d52-121c-4b85-abc5-02341e3b77c4"
      },
      "execution_count": null,
      "outputs": [
        {
          "output_type": "execute_result",
          "data": {
            "text/plain": [
              "array([ 1,  3,  4,  6,  7,  9, 11])"
            ]
          },
          "metadata": {},
          "execution_count": 102
        }
      ]
    },
    {
      "cell_type": "markdown",
      "source": [
        "13) Yukarıda oluşturduğunuz array içinde değeri 4'den büyük olan değerlerin indexlerini bulun."
      ],
      "metadata": {
        "id": "RZP_J1kMQwSm"
      }
    },
    {
      "cell_type": "code",
      "source": [
        "arr4 = np.where(arr1>4)[0]\n",
        "arr4"
      ],
      "metadata": {
        "colab": {
          "base_uri": "https://localhost:8080/"
        },
        "id": "_BiDgrc0QyFq",
        "outputId": "41b1f8d2-8891-4254-9609-e5398f97afa1"
      },
      "execution_count": null,
      "outputs": [
        {
          "output_type": "execute_result",
          "data": {
            "text/plain": [
              "array([ 1,  2,  5,  9, 10, 11, 13])"
            ]
          },
          "metadata": {},
          "execution_count": 107
        }
      ]
    },
    {
      "cell_type": "markdown",
      "source": [
        "14) Yukarıda oluşturduğunuz array içinde değeri 5'e tam bölünen değerlerin indexlerini bulun."
      ],
      "metadata": {
        "id": "65iSA_FwRQIy"
      }
    },
    {
      "cell_type": "code",
      "source": [
        "arr5 = np.where(arr1 % 5 == 0)[0]\n",
        "arr5"
      ],
      "metadata": {
        "colab": {
          "base_uri": "https://localhost:8080/"
        },
        "id": "1d9bPsljRQdL",
        "outputId": "458bd1fc-0aaf-4b2a-b746-0301d64ab3e7"
      },
      "execution_count": null,
      "outputs": [
        {
          "output_type": "execute_result",
          "data": {
            "text/plain": [
              "array([ 1,  2,  5, 13])"
            ]
          },
          "metadata": {},
          "execution_count": 109
        }
      ]
    },
    {
      "cell_type": "markdown",
      "source": [
        "15) 85-100(100 dahil) arasından rastgele 1 tam sayı seçin"
      ],
      "metadata": {
        "id": "-h_f9KkhRZ1s"
      }
    },
    {
      "cell_type": "code",
      "source": [
        "arr1 = np.random.randint(85,101)\n",
        "arr1"
      ],
      "metadata": {
        "colab": {
          "base_uri": "https://localhost:8080/"
        },
        "id": "cS7x3ldcRaLY",
        "outputId": "92f15966-2342-4df7-853a-8c71252fa466"
      },
      "execution_count": null,
      "outputs": [
        {
          "output_type": "execute_result",
          "data": {
            "text/plain": [
              "85"
            ]
          },
          "metadata": {},
          "execution_count": 110
        }
      ]
    },
    {
      "cell_type": "markdown",
      "source": [
        "16) İki basamaklı tam sayılar arasından rastgele sayılar seçerek (3,3) shape'inde bir array oluşturun."
      ],
      "metadata": {
        "id": "c-lQhDVPRrVW"
      }
    },
    {
      "cell_type": "code",
      "source": [
        "arr1 = np.random.randint(10,100, size= (3,3))\n",
        "arr1"
      ],
      "metadata": {
        "colab": {
          "base_uri": "https://localhost:8080/"
        },
        "id": "pPncNB3oRrj3",
        "outputId": "44b1fdae-9d26-464c-a7d8-5e133762dd48"
      },
      "execution_count": null,
      "outputs": [
        {
          "output_type": "execute_result",
          "data": {
            "text/plain": [
              "array([[80, 97, 86],\n",
              "       [74, 38, 39],\n",
              "       [53, 57, 75]])"
            ]
          },
          "metadata": {},
          "execution_count": 112
        }
      ]
    },
    {
      "cell_type": "markdown",
      "source": [
        "17) 35-60 arasındaki tam sayılardan bir array oluşturun, ardından bu array içinden rastgele 1 tam sayı seçin."
      ],
      "metadata": {
        "id": "XFh3DpCuSCoz"
      }
    },
    {
      "cell_type": "code",
      "source": [
        "arr1 = np.arange(35,60)\n",
        "arr1"
      ],
      "metadata": {
        "colab": {
          "base_uri": "https://localhost:8080/"
        },
        "id": "PO7GCKkHSC9G",
        "outputId": "eebf37e7-e9a9-40e5-d20f-3a2f40373642"
      },
      "execution_count": null,
      "outputs": [
        {
          "output_type": "execute_result",
          "data": {
            "text/plain": [
              "array([35, 36, 37, 38, 39, 40, 41, 42, 43, 44, 45, 46, 47, 48, 49, 50, 51,\n",
              "       52, 53, 54, 55, 56, 57, 58, 59])"
            ]
          },
          "metadata": {},
          "execution_count": 116
        }
      ]
    },
    {
      "cell_type": "code",
      "source": [
        "np.random.choice(arr1)"
      ],
      "metadata": {
        "colab": {
          "base_uri": "https://localhost:8080/"
        },
        "id": "UWV4FJb6SJoM",
        "outputId": "4278faed-55d2-4a14-ef8c-f46a813dbf86"
      },
      "execution_count": null,
      "outputs": [
        {
          "output_type": "execute_result",
          "data": {
            "text/plain": [
              "41"
            ]
          },
          "metadata": {},
          "execution_count": 117
        }
      ]
    },
    {
      "cell_type": "markdown",
      "source": [
        "18) Sadece [3, 8, 10, 53] değerlerinden oluşan (2,5) shape'inde 2 boyutlu bir array oluşturun."
      ],
      "metadata": {
        "id": "QhhW3oqVSdWM"
      }
    },
    {
      "cell_type": "code",
      "source": [
        "arr1 = np.random.choice([3, 8, 10, 53], size=(2, 5))\n",
        "arr1"
      ],
      "metadata": {
        "colab": {
          "base_uri": "https://localhost:8080/"
        },
        "id": "ANDEAT4wSdqr",
        "outputId": "9ddea4f5-2e48-455f-f8fb-6d232937bf5e"
      },
      "execution_count": null,
      "outputs": [
        {
          "output_type": "execute_result",
          "data": {
            "text/plain": [
              "array([[ 8,  8,  8,  3,  8],\n",
              "       [ 8,  8,  3,  3, 53]])"
            ]
          },
          "metadata": {},
          "execution_count": 118
        }
      ]
    },
    {
      "cell_type": "code",
      "source": [],
      "metadata": {
        "id": "mFjf0vGpVDjK"
      },
      "execution_count": null,
      "outputs": []
    }
  ]
}